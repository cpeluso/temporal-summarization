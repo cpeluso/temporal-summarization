{
  "nbformat": 4,
  "nbformat_minor": 0,
  "metadata": {
    "accelerator": "GPU",
    "colab": {
      "name": "Interactive Trainer.ipynb",
      "provenance": [],
      "collapsed_sections": []
    },
    "kernelspec": {
      "display_name": "Python 3",
      "name": "python3"
    },
    "language_info": {
      "name": "python"
    }
  },
  "cells": [
    {
      "cell_type": "code",
      "metadata": {
        "id": "R8nyFOjEt7yZ"
      },
      "source": [
        "from google.colab import drive, output\n",
        "drive.mount('/content/gdrive', force_remount=True)\n",
        "% cd \"gdrive/MyDrive/temporal-summarization\"\n",
        "\n",
        "!pip install import-ipynb -q\n",
        "!pip install transformers -q\n",
        "!pip install wandb -q\n",
        "\n",
        "import warnings\n",
        "warnings.filterwarnings(\"ignore\")\n",
        "\n",
        "import wandb\n",
        "import import_ipynb\n",
        "output.clear()\n",
        "\n",
        "from src.model.worker import *\n",
        "output.clear()\n",
        "\n",
        "params = dict(\n",
        "  model           = \"bert-uncased\",\n",
        "  datasets        = \"7\",\n",
        "  binary          = \"y\",\n",
        "  context         = \"n\",\n",
        "  full_dataset    = \"n\",\n",
        "  split_on_topics = \"y\",\n",
        "  save_model      = \"n\"\n",
        ")\n",
        "\n",
        "trainer = setup(params)\n",
        "trainer.train()"
      ],
      "execution_count": null,
      "outputs": []
    }
  ]
}